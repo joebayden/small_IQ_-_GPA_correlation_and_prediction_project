{
 "cells": [
  {
   "cell_type": "markdown",
   "id": "f8efa39f",
   "metadata": {},
   "source": [
    "# GPA & IQ Data Analysis and Prediction\n",
    "\n",
    "This notebook covers:\n",
    "- Data loading and cleaning\n",
    "- Exploratory data analysis\n",
    "- Correlation analysis\n",
    "- Predictive modeling (IQ from GPA)\n",
    "- Model evaluation\n",
    "\n",
    "## 1. Data Preparation"
   ]
  },
  {
   "cell_type": "code",
   "execution_count": 2,
   "id": "4749147f",
   "metadata": {},
   "outputs": [
    {
     "data": {
      "text/html": [
       "<div>\n",
       "<style scoped>\n",
       "    .dataframe tbody tr th:only-of-type {\n",
       "        vertical-align: middle;\n",
       "    }\n",
       "\n",
       "    .dataframe tbody tr th {\n",
       "        vertical-align: top;\n",
       "    }\n",
       "\n",
       "    .dataframe thead th {\n",
       "        text-align: right;\n",
       "    }\n",
       "</style>\n",
       "<table border=\"1\" class=\"dataframe\">\n",
       "  <thead>\n",
       "    <tr style=\"text-align: right;\">\n",
       "      <th></th>\n",
       "      <th>obs</th>\n",
       "      <th>gpa</th>\n",
       "      <th>iq</th>\n",
       "      <th>gender</th>\n",
       "      <th>concept</th>\n",
       "    </tr>\n",
       "  </thead>\n",
       "  <tbody>\n",
       "    <tr>\n",
       "      <th>0</th>\n",
       "      <td>1</td>\n",
       "      <td>7.940</td>\n",
       "      <td>111</td>\n",
       "      <td>2</td>\n",
       "      <td>67</td>\n",
       "    </tr>\n",
       "    <tr>\n",
       "      <th>1</th>\n",
       "      <td>2</td>\n",
       "      <td>8.292</td>\n",
       "      <td>107</td>\n",
       "      <td>2</td>\n",
       "      <td>43</td>\n",
       "    </tr>\n",
       "    <tr>\n",
       "      <th>2</th>\n",
       "      <td>3</td>\n",
       "      <td>4.643</td>\n",
       "      <td>100</td>\n",
       "      <td>2</td>\n",
       "      <td>52</td>\n",
       "    </tr>\n",
       "    <tr>\n",
       "      <th>3</th>\n",
       "      <td>4</td>\n",
       "      <td>7.470</td>\n",
       "      <td>107</td>\n",
       "      <td>2</td>\n",
       "      <td>66</td>\n",
       "    </tr>\n",
       "    <tr>\n",
       "      <th>4</th>\n",
       "      <td>5</td>\n",
       "      <td>8.882</td>\n",
       "      <td>114</td>\n",
       "      <td>1</td>\n",
       "      <td>58</td>\n",
       "    </tr>\n",
       "  </tbody>\n",
       "</table>\n",
       "</div>"
      ],
      "text/plain": [
       "   obs    gpa   iq  gender  concept\n",
       "0    1  7.940  111       2       67\n",
       "1    2  8.292  107       2       43\n",
       "2    3  4.643  100       2       52\n",
       "3    4  7.470  107       2       66\n",
       "4    5  8.882  114       1       58"
      ]
     },
     "execution_count": 2,
     "metadata": {},
     "output_type": "execute_result"
    }
   ],
   "source": [
    "import pandas as pd\n",
    "import numpy as np\n",
    "import matplotlib.pyplot as plt\n",
    "import seaborn as sns\n",
    "from sklearn.model_selection import train_test_split\n",
    "from sklearn.linear_model import LinearRegression\n",
    "from sklearn.metrics import mean_squared_error, r2_score\n",
    "from scipy.stats import pearsonr\n",
    "\n",
    "# Load data\n",
    "df = pd.read_csv('gpa_iq.csv')\n",
    "df.head()"
   ]
  },
  {
   "cell_type": "markdown",
   "id": "ea1a1ab1",
   "metadata": {},
   "source": [
    "### Data Cleaning\n",
    "- Remove duplicates\n",
    "- Drop unnecessary columns (`obs`, `concept`)\n",
    "- Check for missing values"
   ]
  },
  {
   "cell_type": "code",
   "execution_count": 3,
   "id": "023320e4",
   "metadata": {},
   "outputs": [
    {
     "name": "stdout",
     "output_type": "stream",
     "text": [
      "gpa       0\n",
      "iq        0\n",
      "gender    0\n",
      "dtype: int64\n"
     ]
    },
    {
     "data": {
      "text/html": [
       "<div>\n",
       "<style scoped>\n",
       "    .dataframe tbody tr th:only-of-type {\n",
       "        vertical-align: middle;\n",
       "    }\n",
       "\n",
       "    .dataframe tbody tr th {\n",
       "        vertical-align: top;\n",
       "    }\n",
       "\n",
       "    .dataframe thead th {\n",
       "        text-align: right;\n",
       "    }\n",
       "</style>\n",
       "<table border=\"1\" class=\"dataframe\">\n",
       "  <thead>\n",
       "    <tr style=\"text-align: right;\">\n",
       "      <th></th>\n",
       "      <th>gpa</th>\n",
       "      <th>iq</th>\n",
       "      <th>gender</th>\n",
       "    </tr>\n",
       "  </thead>\n",
       "  <tbody>\n",
       "    <tr>\n",
       "      <th>count</th>\n",
       "      <td>78.000000</td>\n",
       "      <td>78.000000</td>\n",
       "      <td>78.000000</td>\n",
       "    </tr>\n",
       "    <tr>\n",
       "      <th>mean</th>\n",
       "      <td>7.446538</td>\n",
       "      <td>108.923077</td>\n",
       "      <td>1.602564</td>\n",
       "    </tr>\n",
       "    <tr>\n",
       "      <th>std</th>\n",
       "      <td>2.099557</td>\n",
       "      <td>13.170973</td>\n",
       "      <td>0.492535</td>\n",
       "    </tr>\n",
       "    <tr>\n",
       "      <th>min</th>\n",
       "      <td>0.530000</td>\n",
       "      <td>72.000000</td>\n",
       "      <td>1.000000</td>\n",
       "    </tr>\n",
       "    <tr>\n",
       "      <th>25%</th>\n",
       "      <td>6.278000</td>\n",
       "      <td>103.000000</td>\n",
       "      <td>1.000000</td>\n",
       "    </tr>\n",
       "    <tr>\n",
       "      <th>50%</th>\n",
       "      <td>7.829000</td>\n",
       "      <td>110.000000</td>\n",
       "      <td>2.000000</td>\n",
       "    </tr>\n",
       "    <tr>\n",
       "      <th>75%</th>\n",
       "      <td>8.983000</td>\n",
       "      <td>117.500000</td>\n",
       "      <td>2.000000</td>\n",
       "    </tr>\n",
       "    <tr>\n",
       "      <th>max</th>\n",
       "      <td>10.760000</td>\n",
       "      <td>136.000000</td>\n",
       "      <td>2.000000</td>\n",
       "    </tr>\n",
       "  </tbody>\n",
       "</table>\n",
       "</div>"
      ],
      "text/plain": [
       "             gpa          iq     gender\n",
       "count  78.000000   78.000000  78.000000\n",
       "mean    7.446538  108.923077   1.602564\n",
       "std     2.099557   13.170973   0.492535\n",
       "min     0.530000   72.000000   1.000000\n",
       "25%     6.278000  103.000000   1.000000\n",
       "50%     7.829000  110.000000   2.000000\n",
       "75%     8.983000  117.500000   2.000000\n",
       "max    10.760000  136.000000   2.000000"
      ]
     },
     "execution_count": 3,
     "metadata": {},
     "output_type": "execute_result"
    }
   ],
   "source": [
    "# Remove duplicates\n",
    "df = df.drop_duplicates()\n",
    "\n",
    "# Drop unnecessary columns\n",
    "df = df.drop(['obs', 'concept'], axis=1)\n",
    "\n",
    "# Check for missing values\n",
    "print(df.isnull().sum())\n",
    "df.describe()"
   ]
  },
  {
   "cell_type": "markdown",
   "id": "c031c3e4",
   "metadata": {},
   "source": [
    "## 2. Exploratory Data Analysis"
   ]
  },
  {
   "cell_type": "code",
   "execution_count": 4,
   "id": "4647f82e",
   "metadata": {},
   "outputs": [
    {
     "data": {
      "image/png": "[encoded data removed]",
      "text/plain": [
       "<Figure size 800x600 with 1 Axes>"
      ]
     },
     "metadata": {},
     "output_type": "display_data"
    }
   ],
   "source": [
    "# Visualize GPA vs IQ\n",
    "plt.figure(figsize=(8,6))\n",
    "sns.scatterplot(data=df, x='gpa', y='iq', hue='gender', palette='Set1')\n",
    "plt.title('GPA vs IQ by Gender')\n",
    "plt.xlabel('GPA')\n",
    "plt.ylabel('IQ')\n",
    "plt.legend(title='Gender', labels=['Male', 'Female'])\n",
    "plt.show()"
   ]
  },
  {
   "cell_type": "markdown",
   "id": "c14ba786",
   "metadata": {},
   "source": [
    "## 3. Correlation Analysis"
   ]
  },
  {
   "cell_type": "code",
   "execution_count": 5,
   "id": "f498d105",
   "metadata": {},
   "outputs": [
    {
     "name": "stdout",
     "output_type": "stream",
     "text": [
      "Pearson correlation coefficient: 0.634\n",
      "P-value: 4.737e-10\n"
     ]
    }
   ],
   "source": [
    "# Pearson correlation\n",
    "corr, p_value = pearsonr(df['gpa'], df['iq'])\n",
    "print(f'Pearson correlation coefficient: {corr:.3f}')\n",
    "print(f'P-value: {p_value:.3e}')"
   ]
  },
  {
   "cell_type": "code",
   "execution_count": 17,
   "id": "eae79805",
   "metadata": {},
   "outputs": [
    {
     "name": "stdout",
     "output_type": "stream",
     "text": [
      "Male: Pearson correlation = 0.780, p-value = 2.361e-07\n",
      "Female: Pearson correlation = 0.630, p-value = 2.074e-06\n"
     ]
    }
   ],
   "source": [
    "# Calculate and print Pearson correlation between GPA and IQ for each gender\n",
    "for gender_value, gender_name in [(1, 'Male'), (2, 'Female')]:\n",
    "    subset = df[df['gender'] == gender_value]\n",
    "    corr_gender, p_gender = pearsonr(subset['gpa'], subset['iq'])\n",
    "    print(f\"{gender_name}: Pearson correlation = {corr_gender:.3f}, p-value = {p_gender:.3e}\")"
   ]
  },
  {
   "cell_type": "markdown",
   "id": "41eb1a29",
   "metadata": {},
   "source": [
    "## 4. Predictive Modeling\n",
    "\n",
    "We will use 80% of the data for training and 20% for testing."
   ]
  },
  {
   "cell_type": "code",
   "execution_count": 6,
   "id": "ebee4238",
   "metadata": {},
   "outputs": [
    {
     "name": "stdout",
     "output_type": "stream",
     "text": [
      "Training samples: 62, Testing samples: 16\n"
     ]
    }
   ],
   "source": [
    "# Prepare features and target\n",
    "X = df[['gpa']]\n",
    "y = df['iq']\n",
    "\n",
    "# Split data\n",
    "X_train, X_test, y_train, y_test = train_test_split(X, y, test_size=0.2, random_state=42)\n",
    "print(f'Training samples: {len(X_train)}, Testing samples: {len(X_test)}')"
   ]
  },
  {
   "cell_type": "markdown",
   "id": "ac8e288c",
   "metadata": {},
   "source": [
    "### Linear Regression Model"
   ]
  },
  {
   "cell_type": "code",
   "execution_count": 7,
   "id": "0dec98cf",
   "metadata": {},
   "outputs": [
    {
     "name": "stdout",
     "output_type": "stream",
     "text": [
      "Mean Squared Error: 73.07\n",
      "R^2 Score: 0.217\n"
     ]
    }
   ],
   "source": [
    "# Train model\n",
    "lr = LinearRegression()\n",
    "lr.fit(X_train, y_train)\n",
    "\n",
    "# Predict\n",
    "y_pred = lr.predict(X_test)\n",
    "\n",
    "# Evaluate\n",
    "mse = mean_squared_error(y_test, y_pred)\n",
    "r2 = r2_score(y_test, y_pred)\n",
    "print(f'Mean Squared Error: {mse:.2f}')\n",
    "print(f'R^2 Score: {r2:.3f}')"
   ]
  },
  {
   "cell_type": "markdown",
   "id": "77134dc0",
   "metadata": {},
   "source": [
    "#### Plot Predictions"
   ]
  },
  {
   "cell_type": "code",
   "execution_count": 8,
   "id": "785c39cd",
   "metadata": {},
   "outputs": [
    {
     "data": {
      "image/png": "[encoded data removed]",
      "text/plain": [
       "<Figure size 800x600 with 1 Axes>"
      ]
     },
     "metadata": {},
     "output_type": "display_data"
    }
   ],
   "source": [
    "plt.figure(figsize=(8,6))\n",
    "plt.scatter(X_test, y_test, color='blue', label='Actual IQ')\n",
    "plt.scatter(X_test, y_pred, color='red', label='Predicted IQ')\n",
    "plt.xlabel('GPA')\n",
    "plt.ylabel('IQ')\n",
    "plt.title('Actual vs Predicted IQ')\n",
    "plt.legend()\n",
    "plt.show()"
   ]
  },
  {
   "cell_type": "markdown",
   "id": "868bcdbd",
   "metadata": {},
   "source": [
    "## 5. Alternative Model: Multiple Linear Regression (with Gender)\n",
    "\n",
    "Let's see if including gender improves prediction."
   ]
  },
  {
   "cell_type": "code",
   "execution_count": 9,
   "id": "70ca7837",
   "metadata": {},
   "outputs": [
    {
     "name": "stdout",
     "output_type": "stream",
     "text": [
      "MSE (with gender): 85.59\n",
      "R^2 (with gender): 0.083\n"
     ]
    }
   ],
   "source": [
    "# One-hot encode gender\n",
    "X2 = pd.get_dummies(df[['gpa', 'gender']], columns=['gender'], drop_first=True)\n",
    "X2_train, X2_test, y2_train, y2_test = train_test_split(X2, y, test_size=0.2, random_state=42)\n",
    "\n",
    "lr2 = LinearRegression()\n",
    "lr2.fit(X2_train, y2_train)\n",
    "y2_pred = lr2.predict(X2_test)\n",
    "mse2 = mean_squared_error(y2_test, y2_pred)\n",
    "r2_2 = r2_score(y2_test, y2_pred)\n",
    "print(f'MSE (with gender): {mse2:.2f}')\n",
    "print(f'R^2 (with gender): {r2_2:.3f}')"
   ]
  },
  {
   "cell_type": "markdown",
   "id": "87d89f27",
   "metadata": {},
   "source": [
    "Alternative Model: Actual vs Predicted IQ"
   ]
  },
  {
   "cell_type": "code",
   "execution_count": 12,
   "id": "7e97ae92",
   "metadata": {},
   "outputs": [
    {
     "data": {
      "image/png": "[encoded data removed]",
      "text/plain": [
       "<Figure size 800x600 with 1 Axes>"
      ]
     },
     "metadata": {},
     "output_type": "display_data"
    }
   ],
   "source": [
    "# Visualize predictions for the model with gender\n",
    "plt.figure(figsize=(8,6))\n",
    "plt.scatter(X2_test['gpa'], y2_test, color='blue', label='Actual IQ')\n",
    "plt.scatter(X2_test['gpa'], y2_pred, color='red', label='Predicted IQ')\n",
    "plt.xlabel('GPA')\n",
    "plt.ylabel('IQ')\n",
    "plt.title('Actual vs Predicted IQ (with Gender)')\n",
    "plt.legend()\n",
    "plt.show()"
   ]
  },
  {
   "cell_type": "markdown",
   "id": "8db45e15",
   "metadata": {},
   "source": [
    "Testing both models on accurasy"
   ]
  },
  {
   "cell_type": "code",
   "execution_count": 16,
   "id": "3f187bd9",
   "metadata": {},
   "outputs": [
    {
     "name": "stdout",
     "output_type": "stream",
     "text": [
      "Simple model: 68.8% of predictions are within ±10 IQ points of the actual value.\n",
      "Model with gender: 81.2% of predictions are within ±10 IQ points of the actual value.\n"
     ]
    }
   ],
   "source": [
    "# For the simple linear regression model\n",
    "tolerance = 10  # IQ points\n",
    "accurate_preds = np.abs(y_test - y_pred) <= tolerance\n",
    "accuracy_percent = 100 * accurate_preds.sum() / len(y_test)\n",
    "print(f\"Simple model: {accuracy_percent:.1f}% of predictions are within ±{tolerance} IQ points of the actual value.\")\n",
    "\n",
    "# For the model with gender\n",
    "accurate_preds2 = np.abs(y2_test - y2_pred) <= tolerance\n",
    "accuracy_percent2 = 100 * accurate_preds2.sum() / len(y2_test)\n",
    "print(f\"Model with gender: {accuracy_percent2:.1f}% of predictions are within ±{tolerance} IQ points of the actual value.\")"
   ]
  },
  {
   "cell_type": "markdown",
   "id": "30cfcae1",
   "metadata": {},
   "source": [
    "## 6. Conclusions\n",
    "\n",
    "- **Data cleaning**: Removed duplicates, dropped unnecessary columns, checked for missing values.\n",
    "- **Correlation**: Pearson correlation coefficient calculated between GPA and IQ.\n",
    "- **Modeling**: Linear regression used to predict IQ from GPA. Also tried multiple regression with gender.\n",
    "- **Evaluation**: Overall speaking, the model with gender was more accurate , with a slightly higher R² and lower MSE. The simple model had about 70% of predictions within ±10 IQ points, while the model with gender had about 81%. This accurasy is quite low , this can be reasoned by the low amount of data and related columns. \n",
    "- **So what can be said**: In our case gender does not have a significant impact on the correlation between GPA and IQ. Also for males the correlation between gpa and iq 78 percent while for females this figure is 63.\n",
    "- **Can we make some desicions based on this?**: Short Answer : NO !!! . As this models are trained on a very small dataset and include only 2 factors it is 100% false to make some decisions based on this.\n",
    "- **What is the purpose of this project?**: This project was made for eductaional purposes.\n"
   ]
  }
 ],
 "metadata": {
  "kernelspec": {
   "display_name": "Python 3",
   "language": "python",
   "name": "python3"
  },
  "language_info": {
   "codemirror_mode": {
    "name": "ipython",
    "version": 3
   },
   "file_extension": ".py",
   "mimetype": "text/x-python",
   "name": "python",
   "nbconvert_exporter": "python",
   "pygments_lexer": "ipython3",
   "version": "3.13.5"
  }
 },
 "nbformat": 4,
 "nbformat_minor": 5
}
